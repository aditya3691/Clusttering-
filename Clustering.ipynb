{
 "cells": [
  {
   "cell_type": "code",
   "execution_count": 1,
   "metadata": {},
   "outputs": [],
   "source": [
    "import pandas as pd\n",
    "import numpy as np\n",
    "import matplotlib.pyplot as plt\n",
    "%matplotlib inline\n",
    "import seaborn as sns"
   ]
  },
  {
   "cell_type": "code",
   "execution_count": 2,
   "metadata": {},
   "outputs": [],
   "source": [
    "data = pd.read_csv(\"snsdata.csv\")"
   ]
  },
  {
   "cell_type": "code",
   "execution_count": 3,
   "metadata": {
    "scrolled": true
   },
   "outputs": [
    {
     "data": {
      "text/html": [
       "<div>\n",
       "<style scoped>\n",
       "    .dataframe tbody tr th:only-of-type {\n",
       "        vertical-align: middle;\n",
       "    }\n",
       "\n",
       "    .dataframe tbody tr th {\n",
       "        vertical-align: top;\n",
       "    }\n",
       "\n",
       "    .dataframe thead th {\n",
       "        text-align: right;\n",
       "    }\n",
       "</style>\n",
       "<table border=\"1\" class=\"dataframe\">\n",
       "  <thead>\n",
       "    <tr style=\"text-align: right;\">\n",
       "      <th></th>\n",
       "      <th>gradyear</th>\n",
       "      <th>gender</th>\n",
       "      <th>age</th>\n",
       "      <th>friends</th>\n",
       "      <th>basketball</th>\n",
       "      <th>football</th>\n",
       "      <th>soccer</th>\n",
       "      <th>softball</th>\n",
       "      <th>volleyball</th>\n",
       "      <th>swimming</th>\n",
       "      <th>...</th>\n",
       "      <th>blonde</th>\n",
       "      <th>mall</th>\n",
       "      <th>shopping</th>\n",
       "      <th>clothes</th>\n",
       "      <th>hollister</th>\n",
       "      <th>abercrombie</th>\n",
       "      <th>die</th>\n",
       "      <th>death</th>\n",
       "      <th>drunk</th>\n",
       "      <th>drugs</th>\n",
       "    </tr>\n",
       "  </thead>\n",
       "  <tbody>\n",
       "    <tr>\n",
       "      <th>0</th>\n",
       "      <td>2006</td>\n",
       "      <td>M</td>\n",
       "      <td>18.982</td>\n",
       "      <td>7</td>\n",
       "      <td>0</td>\n",
       "      <td>0</td>\n",
       "      <td>0</td>\n",
       "      <td>0</td>\n",
       "      <td>0</td>\n",
       "      <td>0</td>\n",
       "      <td>...</td>\n",
       "      <td>0</td>\n",
       "      <td>0</td>\n",
       "      <td>0</td>\n",
       "      <td>0</td>\n",
       "      <td>0</td>\n",
       "      <td>0</td>\n",
       "      <td>0</td>\n",
       "      <td>0</td>\n",
       "      <td>0</td>\n",
       "      <td>0</td>\n",
       "    </tr>\n",
       "    <tr>\n",
       "      <th>1</th>\n",
       "      <td>2006</td>\n",
       "      <td>F</td>\n",
       "      <td>18.801</td>\n",
       "      <td>0</td>\n",
       "      <td>0</td>\n",
       "      <td>1</td>\n",
       "      <td>0</td>\n",
       "      <td>0</td>\n",
       "      <td>0</td>\n",
       "      <td>0</td>\n",
       "      <td>...</td>\n",
       "      <td>0</td>\n",
       "      <td>1</td>\n",
       "      <td>0</td>\n",
       "      <td>0</td>\n",
       "      <td>0</td>\n",
       "      <td>0</td>\n",
       "      <td>0</td>\n",
       "      <td>0</td>\n",
       "      <td>0</td>\n",
       "      <td>0</td>\n",
       "    </tr>\n",
       "    <tr>\n",
       "      <th>2</th>\n",
       "      <td>2006</td>\n",
       "      <td>M</td>\n",
       "      <td>18.335</td>\n",
       "      <td>69</td>\n",
       "      <td>0</td>\n",
       "      <td>1</td>\n",
       "      <td>0</td>\n",
       "      <td>0</td>\n",
       "      <td>0</td>\n",
       "      <td>0</td>\n",
       "      <td>...</td>\n",
       "      <td>0</td>\n",
       "      <td>0</td>\n",
       "      <td>0</td>\n",
       "      <td>0</td>\n",
       "      <td>0</td>\n",
       "      <td>0</td>\n",
       "      <td>0</td>\n",
       "      <td>1</td>\n",
       "      <td>0</td>\n",
       "      <td>0</td>\n",
       "    </tr>\n",
       "    <tr>\n",
       "      <th>3</th>\n",
       "      <td>2006</td>\n",
       "      <td>F</td>\n",
       "      <td>18.875</td>\n",
       "      <td>0</td>\n",
       "      <td>0</td>\n",
       "      <td>0</td>\n",
       "      <td>0</td>\n",
       "      <td>0</td>\n",
       "      <td>0</td>\n",
       "      <td>0</td>\n",
       "      <td>...</td>\n",
       "      <td>0</td>\n",
       "      <td>0</td>\n",
       "      <td>0</td>\n",
       "      <td>0</td>\n",
       "      <td>0</td>\n",
       "      <td>0</td>\n",
       "      <td>0</td>\n",
       "      <td>0</td>\n",
       "      <td>0</td>\n",
       "      <td>0</td>\n",
       "    </tr>\n",
       "    <tr>\n",
       "      <th>4</th>\n",
       "      <td>2006</td>\n",
       "      <td>NaN</td>\n",
       "      <td>18.995</td>\n",
       "      <td>10</td>\n",
       "      <td>0</td>\n",
       "      <td>0</td>\n",
       "      <td>0</td>\n",
       "      <td>0</td>\n",
       "      <td>0</td>\n",
       "      <td>0</td>\n",
       "      <td>...</td>\n",
       "      <td>0</td>\n",
       "      <td>0</td>\n",
       "      <td>2</td>\n",
       "      <td>0</td>\n",
       "      <td>0</td>\n",
       "      <td>0</td>\n",
       "      <td>0</td>\n",
       "      <td>0</td>\n",
       "      <td>1</td>\n",
       "      <td>1</td>\n",
       "    </tr>\n",
       "  </tbody>\n",
       "</table>\n",
       "<p>5 rows × 40 columns</p>\n",
       "</div>"
      ],
      "text/plain": [
       "   gradyear gender     age  friends  basketball  football  soccer  softball  \\\n",
       "0      2006      M  18.982        7           0         0       0         0   \n",
       "1      2006      F  18.801        0           0         1       0         0   \n",
       "2      2006      M  18.335       69           0         1       0         0   \n",
       "3      2006      F  18.875        0           0         0       0         0   \n",
       "4      2006    NaN  18.995       10           0         0       0         0   \n",
       "\n",
       "   volleyball  swimming  ...  blonde  mall  shopping  clothes  hollister  \\\n",
       "0           0         0  ...       0     0         0        0          0   \n",
       "1           0         0  ...       0     1         0        0          0   \n",
       "2           0         0  ...       0     0         0        0          0   \n",
       "3           0         0  ...       0     0         0        0          0   \n",
       "4           0         0  ...       0     0         2        0          0   \n",
       "\n",
       "   abercrombie  die  death  drunk  drugs  \n",
       "0            0    0      0      0      0  \n",
       "1            0    0      0      0      0  \n",
       "2            0    0      1      0      0  \n",
       "3            0    0      0      0      0  \n",
       "4            0    0      0      1      1  \n",
       "\n",
       "[5 rows x 40 columns]"
      ]
     },
     "execution_count": 3,
     "metadata": {},
     "output_type": "execute_result"
    }
   ],
   "source": [
    "data.head()"
   ]
  },
  {
   "cell_type": "code",
   "execution_count": 4,
   "metadata": {},
   "outputs": [
    {
     "data": {
      "text/plain": [
       "gradyear           0\n",
       "gender          2724\n",
       "age             5086\n",
       "friends            0\n",
       "basketball         0\n",
       "football           0\n",
       "soccer             0\n",
       "softball           0\n",
       "volleyball         0\n",
       "swimming           0\n",
       "cheerleading       0\n",
       "baseball           0\n",
       "tennis             0\n",
       "sports             0\n",
       "cute               0\n",
       "sex                0\n",
       "sexy               0\n",
       "hot                0\n",
       "kissed             0\n",
       "dance              0\n",
       "band               0\n",
       "marching           0\n",
       "music              0\n",
       "rock               0\n",
       "god                0\n",
       "church             0\n",
       "jesus              0\n",
       "bible              0\n",
       "hair               0\n",
       "dress              0\n",
       "blonde             0\n",
       "mall               0\n",
       "shopping           0\n",
       "clothes            0\n",
       "hollister          0\n",
       "abercrombie        0\n",
       "die                0\n",
       "death              0\n",
       "drunk              0\n",
       "drugs              0\n",
       "dtype: int64"
      ]
     },
     "execution_count": 4,
     "metadata": {},
     "output_type": "execute_result"
    }
   ],
   "source": [
    "data.isnull().sum()"
   ]
  },
  {
   "cell_type": "code",
   "execution_count": 5,
   "metadata": {},
   "outputs": [
    {
     "data": {
      "text/plain": [
       "F      22054\n",
       "M       5222\n",
       "NaN     2724\n",
       "Name: gender, dtype: int64"
      ]
     },
     "execution_count": 5,
     "metadata": {},
     "output_type": "execute_result"
    }
   ],
   "source": [
    "data[\"gender\"].value_counts(dropna= False)"
   ]
  },
  {
   "cell_type": "code",
   "execution_count": 6,
   "metadata": {},
   "outputs": [],
   "source": [
    "# fill the null value by \"Not disclosed"
   ]
  },
  {
   "cell_type": "code",
   "execution_count": 7,
   "metadata": {},
   "outputs": [],
   "source": [
    "data[\"gender\"].fillna(\"not disclosed\", inplace = True)"
   ]
  },
  {
   "cell_type": "code",
   "execution_count": 8,
   "metadata": {},
   "outputs": [
    {
     "data": {
      "text/plain": [
       "F                22054\n",
       "M                 5222\n",
       "not disclosed     2724\n",
       "Name: gender, dtype: int64"
      ]
     },
     "execution_count": 8,
     "metadata": {},
     "output_type": "execute_result"
    }
   ],
   "source": [
    "data[\"gender\"].value_counts(dropna= False)"
   ]
  },
  {
   "cell_type": "code",
   "execution_count": 9,
   "metadata": {},
   "outputs": [
    {
     "data": {
      "text/plain": [
       "gradyear\n",
       "2006    19.137241\n",
       "2007    18.391459\n",
       "2008    17.523867\n",
       "2009    16.876025\n",
       "Name: age, dtype: float64"
      ]
     },
     "execution_count": 9,
     "metadata": {},
     "output_type": "execute_result"
    }
   ],
   "source": [
    "data.groupby(\"gradyear\")[\"age\"].mean()"
   ]
  },
  {
   "cell_type": "code",
   "execution_count": 10,
   "metadata": {},
   "outputs": [],
   "source": [
    "data[\"age\"] = data.groupby(\"gradyear\").transform(lambda x : x.fillna(x.mean()))"
   ]
  },
  {
   "cell_type": "code",
   "execution_count": 11,
   "metadata": {
    "scrolled": true
   },
   "outputs": [
    {
     "data": {
      "text/plain": [
       "gradyear        0\n",
       "gender          0\n",
       "age             0\n",
       "friends         0\n",
       "basketball      0\n",
       "football        0\n",
       "soccer          0\n",
       "softball        0\n",
       "volleyball      0\n",
       "swimming        0\n",
       "cheerleading    0\n",
       "baseball        0\n",
       "tennis          0\n",
       "sports          0\n",
       "cute            0\n",
       "sex             0\n",
       "sexy            0\n",
       "hot             0\n",
       "kissed          0\n",
       "dance           0\n",
       "band            0\n",
       "marching        0\n",
       "music           0\n",
       "rock            0\n",
       "god             0\n",
       "church          0\n",
       "jesus           0\n",
       "bible           0\n",
       "hair            0\n",
       "dress           0\n",
       "blonde          0\n",
       "mall            0\n",
       "shopping        0\n",
       "clothes         0\n",
       "hollister       0\n",
       "abercrombie     0\n",
       "die             0\n",
       "death           0\n",
       "drunk           0\n",
       "drugs           0\n",
       "dtype: int64"
      ]
     },
     "execution_count": 11,
     "metadata": {},
     "output_type": "execute_result"
    }
   ],
   "source": [
    "data.isnull().sum()"
   ]
  },
  {
   "cell_type": "code",
   "execution_count": 12,
   "metadata": {},
   "outputs": [
    {
     "ename": "NameError",
     "evalue": "name 'df' is not defined",
     "output_type": "error",
     "traceback": [
      "\u001b[1;31m---------------------------------------------------------------------------\u001b[0m",
      "\u001b[1;31mNameError\u001b[0m                                 Traceback (most recent call last)",
      "\u001b[1;32m<ipython-input-12-633337079cd0>\u001b[0m in \u001b[0;36m<module>\u001b[1;34m\u001b[0m\n\u001b[1;32m----> 1\u001b[1;33m \u001b[0mdf\u001b[0m\u001b[1;33m.\u001b[0m\u001b[0mshape\u001b[0m\u001b[1;33m\u001b[0m\u001b[1;33m\u001b[0m\u001b[0m\n\u001b[0m",
      "\u001b[1;31mNameError\u001b[0m: name 'df' is not defined"
     ]
    }
   ],
   "source": [
    "df.shape"
   ]
  },
  {
   "cell_type": "code",
   "execution_count": null,
   "metadata": {},
   "outputs": [],
   "source": []
  },
  {
   "cell_type": "code",
   "execution_count": 13,
   "metadata": {},
   "outputs": [
    {
     "data": {
      "text/html": [
       "<div>\n",
       "<style scoped>\n",
       "    .dataframe tbody tr th:only-of-type {\n",
       "        vertical-align: middle;\n",
       "    }\n",
       "\n",
       "    .dataframe tbody tr th {\n",
       "        vertical-align: top;\n",
       "    }\n",
       "\n",
       "    .dataframe thead th {\n",
       "        text-align: right;\n",
       "    }\n",
       "</style>\n",
       "<table border=\"1\" class=\"dataframe\">\n",
       "  <thead>\n",
       "    <tr style=\"text-align: right;\">\n",
       "      <th></th>\n",
       "      <th>gradyear</th>\n",
       "      <th>age</th>\n",
       "      <th>friends</th>\n",
       "      <th>basketball</th>\n",
       "      <th>football</th>\n",
       "      <th>soccer</th>\n",
       "      <th>softball</th>\n",
       "      <th>volleyball</th>\n",
       "      <th>swimming</th>\n",
       "      <th>cheerleading</th>\n",
       "      <th>...</th>\n",
       "      <th>blonde</th>\n",
       "      <th>mall</th>\n",
       "      <th>shopping</th>\n",
       "      <th>clothes</th>\n",
       "      <th>hollister</th>\n",
       "      <th>abercrombie</th>\n",
       "      <th>die</th>\n",
       "      <th>death</th>\n",
       "      <th>drunk</th>\n",
       "      <th>drugs</th>\n",
       "    </tr>\n",
       "  </thead>\n",
       "  <tbody>\n",
       "    <tr>\n",
       "      <th>count</th>\n",
       "      <td>30000.000000</td>\n",
       "      <td>30000.000000</td>\n",
       "      <td>30000.000000</td>\n",
       "      <td>30000.000000</td>\n",
       "      <td>30000.000000</td>\n",
       "      <td>30000.000000</td>\n",
       "      <td>30000.000000</td>\n",
       "      <td>30000.000000</td>\n",
       "      <td>30000.00000</td>\n",
       "      <td>30000.000000</td>\n",
       "      <td>...</td>\n",
       "      <td>30000.000000</td>\n",
       "      <td>30000.000000</td>\n",
       "      <td>30000.000000</td>\n",
       "      <td>30000.00000</td>\n",
       "      <td>30000.000000</td>\n",
       "      <td>30000.000000</td>\n",
       "      <td>30000.000000</td>\n",
       "      <td>30000.000000</td>\n",
       "      <td>30000.000000</td>\n",
       "      <td>30000.000000</td>\n",
       "    </tr>\n",
       "    <tr>\n",
       "      <th>mean</th>\n",
       "      <td>2007.500000</td>\n",
       "      <td>17.982148</td>\n",
       "      <td>30.179467</td>\n",
       "      <td>0.267333</td>\n",
       "      <td>0.252300</td>\n",
       "      <td>0.222767</td>\n",
       "      <td>0.161200</td>\n",
       "      <td>0.143133</td>\n",
       "      <td>0.13440</td>\n",
       "      <td>0.106633</td>\n",
       "      <td>...</td>\n",
       "      <td>0.098933</td>\n",
       "      <td>0.257367</td>\n",
       "      <td>0.353000</td>\n",
       "      <td>0.14850</td>\n",
       "      <td>0.069867</td>\n",
       "      <td>0.051167</td>\n",
       "      <td>0.184100</td>\n",
       "      <td>0.114233</td>\n",
       "      <td>0.087967</td>\n",
       "      <td>0.060433</td>\n",
       "    </tr>\n",
       "    <tr>\n",
       "      <th>std</th>\n",
       "      <td>1.118053</td>\n",
       "      <td>7.169862</td>\n",
       "      <td>36.530877</td>\n",
       "      <td>0.804708</td>\n",
       "      <td>0.705357</td>\n",
       "      <td>0.917226</td>\n",
       "      <td>0.739707</td>\n",
       "      <td>0.639943</td>\n",
       "      <td>0.51699</td>\n",
       "      <td>0.514333</td>\n",
       "      <td>...</td>\n",
       "      <td>1.942319</td>\n",
       "      <td>0.695758</td>\n",
       "      <td>0.724391</td>\n",
       "      <td>0.47264</td>\n",
       "      <td>0.346779</td>\n",
       "      <td>0.279555</td>\n",
       "      <td>0.624516</td>\n",
       "      <td>0.436796</td>\n",
       "      <td>0.399125</td>\n",
       "      <td>0.345522</td>\n",
       "    </tr>\n",
       "    <tr>\n",
       "      <th>min</th>\n",
       "      <td>2006.000000</td>\n",
       "      <td>3.086000</td>\n",
       "      <td>0.000000</td>\n",
       "      <td>0.000000</td>\n",
       "      <td>0.000000</td>\n",
       "      <td>0.000000</td>\n",
       "      <td>0.000000</td>\n",
       "      <td>0.000000</td>\n",
       "      <td>0.00000</td>\n",
       "      <td>0.000000</td>\n",
       "      <td>...</td>\n",
       "      <td>0.000000</td>\n",
       "      <td>0.000000</td>\n",
       "      <td>0.000000</td>\n",
       "      <td>0.00000</td>\n",
       "      <td>0.000000</td>\n",
       "      <td>0.000000</td>\n",
       "      <td>0.000000</td>\n",
       "      <td>0.000000</td>\n",
       "      <td>0.000000</td>\n",
       "      <td>0.000000</td>\n",
       "    </tr>\n",
       "    <tr>\n",
       "      <th>25%</th>\n",
       "      <td>2006.750000</td>\n",
       "      <td>16.504000</td>\n",
       "      <td>3.000000</td>\n",
       "      <td>0.000000</td>\n",
       "      <td>0.000000</td>\n",
       "      <td>0.000000</td>\n",
       "      <td>0.000000</td>\n",
       "      <td>0.000000</td>\n",
       "      <td>0.00000</td>\n",
       "      <td>0.000000</td>\n",
       "      <td>...</td>\n",
       "      <td>0.000000</td>\n",
       "      <td>0.000000</td>\n",
       "      <td>0.000000</td>\n",
       "      <td>0.00000</td>\n",
       "      <td>0.000000</td>\n",
       "      <td>0.000000</td>\n",
       "      <td>0.000000</td>\n",
       "      <td>0.000000</td>\n",
       "      <td>0.000000</td>\n",
       "      <td>0.000000</td>\n",
       "    </tr>\n",
       "    <tr>\n",
       "      <th>50%</th>\n",
       "      <td>2007.500000</td>\n",
       "      <td>17.443000</td>\n",
       "      <td>20.000000</td>\n",
       "      <td>0.000000</td>\n",
       "      <td>0.000000</td>\n",
       "      <td>0.000000</td>\n",
       "      <td>0.000000</td>\n",
       "      <td>0.000000</td>\n",
       "      <td>0.00000</td>\n",
       "      <td>0.000000</td>\n",
       "      <td>...</td>\n",
       "      <td>0.000000</td>\n",
       "      <td>0.000000</td>\n",
       "      <td>0.000000</td>\n",
       "      <td>0.00000</td>\n",
       "      <td>0.000000</td>\n",
       "      <td>0.000000</td>\n",
       "      <td>0.000000</td>\n",
       "      <td>0.000000</td>\n",
       "      <td>0.000000</td>\n",
       "      <td>0.000000</td>\n",
       "    </tr>\n",
       "    <tr>\n",
       "      <th>75%</th>\n",
       "      <td>2008.250000</td>\n",
       "      <td>18.391459</td>\n",
       "      <td>44.000000</td>\n",
       "      <td>0.000000</td>\n",
       "      <td>0.000000</td>\n",
       "      <td>0.000000</td>\n",
       "      <td>0.000000</td>\n",
       "      <td>0.000000</td>\n",
       "      <td>0.00000</td>\n",
       "      <td>0.000000</td>\n",
       "      <td>...</td>\n",
       "      <td>0.000000</td>\n",
       "      <td>0.000000</td>\n",
       "      <td>1.000000</td>\n",
       "      <td>0.00000</td>\n",
       "      <td>0.000000</td>\n",
       "      <td>0.000000</td>\n",
       "      <td>0.000000</td>\n",
       "      <td>0.000000</td>\n",
       "      <td>0.000000</td>\n",
       "      <td>0.000000</td>\n",
       "    </tr>\n",
       "    <tr>\n",
       "      <th>max</th>\n",
       "      <td>2009.000000</td>\n",
       "      <td>106.927000</td>\n",
       "      <td>830.000000</td>\n",
       "      <td>24.000000</td>\n",
       "      <td>15.000000</td>\n",
       "      <td>27.000000</td>\n",
       "      <td>17.000000</td>\n",
       "      <td>14.000000</td>\n",
       "      <td>31.00000</td>\n",
       "      <td>9.000000</td>\n",
       "      <td>...</td>\n",
       "      <td>327.000000</td>\n",
       "      <td>12.000000</td>\n",
       "      <td>11.000000</td>\n",
       "      <td>8.00000</td>\n",
       "      <td>9.000000</td>\n",
       "      <td>8.000000</td>\n",
       "      <td>22.000000</td>\n",
       "      <td>14.000000</td>\n",
       "      <td>8.000000</td>\n",
       "      <td>16.000000</td>\n",
       "    </tr>\n",
       "  </tbody>\n",
       "</table>\n",
       "<p>8 rows × 39 columns</p>\n",
       "</div>"
      ],
      "text/plain": [
       "           gradyear           age       friends    basketball      football  \\\n",
       "count  30000.000000  30000.000000  30000.000000  30000.000000  30000.000000   \n",
       "mean    2007.500000     17.982148     30.179467      0.267333      0.252300   \n",
       "std        1.118053      7.169862     36.530877      0.804708      0.705357   \n",
       "min     2006.000000      3.086000      0.000000      0.000000      0.000000   \n",
       "25%     2006.750000     16.504000      3.000000      0.000000      0.000000   \n",
       "50%     2007.500000     17.443000     20.000000      0.000000      0.000000   \n",
       "75%     2008.250000     18.391459     44.000000      0.000000      0.000000   \n",
       "max     2009.000000    106.927000    830.000000     24.000000     15.000000   \n",
       "\n",
       "             soccer      softball    volleyball     swimming  cheerleading  \\\n",
       "count  30000.000000  30000.000000  30000.000000  30000.00000  30000.000000   \n",
       "mean       0.222767      0.161200      0.143133      0.13440      0.106633   \n",
       "std        0.917226      0.739707      0.639943      0.51699      0.514333   \n",
       "min        0.000000      0.000000      0.000000      0.00000      0.000000   \n",
       "25%        0.000000      0.000000      0.000000      0.00000      0.000000   \n",
       "50%        0.000000      0.000000      0.000000      0.00000      0.000000   \n",
       "75%        0.000000      0.000000      0.000000      0.00000      0.000000   \n",
       "max       27.000000     17.000000     14.000000     31.00000      9.000000   \n",
       "\n",
       "       ...        blonde          mall      shopping      clothes  \\\n",
       "count  ...  30000.000000  30000.000000  30000.000000  30000.00000   \n",
       "mean   ...      0.098933      0.257367      0.353000      0.14850   \n",
       "std    ...      1.942319      0.695758      0.724391      0.47264   \n",
       "min    ...      0.000000      0.000000      0.000000      0.00000   \n",
       "25%    ...      0.000000      0.000000      0.000000      0.00000   \n",
       "50%    ...      0.000000      0.000000      0.000000      0.00000   \n",
       "75%    ...      0.000000      0.000000      1.000000      0.00000   \n",
       "max    ...    327.000000     12.000000     11.000000      8.00000   \n",
       "\n",
       "          hollister   abercrombie           die         death         drunk  \\\n",
       "count  30000.000000  30000.000000  30000.000000  30000.000000  30000.000000   \n",
       "mean       0.069867      0.051167      0.184100      0.114233      0.087967   \n",
       "std        0.346779      0.279555      0.624516      0.436796      0.399125   \n",
       "min        0.000000      0.000000      0.000000      0.000000      0.000000   \n",
       "25%        0.000000      0.000000      0.000000      0.000000      0.000000   \n",
       "50%        0.000000      0.000000      0.000000      0.000000      0.000000   \n",
       "75%        0.000000      0.000000      0.000000      0.000000      0.000000   \n",
       "max        9.000000      8.000000     22.000000     14.000000      8.000000   \n",
       "\n",
       "              drugs  \n",
       "count  30000.000000  \n",
       "mean       0.060433  \n",
       "std        0.345522  \n",
       "min        0.000000  \n",
       "25%        0.000000  \n",
       "50%        0.000000  \n",
       "75%        0.000000  \n",
       "max       16.000000  \n",
       "\n",
       "[8 rows x 39 columns]"
      ]
     },
     "execution_count": 13,
     "metadata": {},
     "output_type": "execute_result"
    }
   ],
   "source": [
    "data.describe()"
   ]
  },
  {
   "cell_type": "code",
   "execution_count": 14,
   "metadata": {},
   "outputs": [
    {
     "data": {
      "text/plain": [
       "<matplotlib.axes._subplots.AxesSubplot at 0x210719be3a0>"
      ]
     },
     "execution_count": 14,
     "metadata": {},
     "output_type": "execute_result"
    },
    {
     "data": {
      "image/png": "[encoded data removed]",
      "text/plain": [
       "<Figure size 432x288 with 1 Axes>"
      ]
     },
     "metadata": {
      "needs_background": "light"
     },
     "output_type": "display_data"
    }
   ],
   "source": [
    "sns.boxplot(data[\"age\"])"
   ]
  },
  {
   "cell_type": "code",
   "execution_count": 15,
   "metadata": {},
   "outputs": [],
   "source": [
    "q1 = data[\"age\"].quantile(0.25)\n",
    "q3 = data[\"age\"].quantile(0.75)"
   ]
  },
  {
   "cell_type": "code",
   "execution_count": 16,
   "metadata": {},
   "outputs": [],
   "source": [
    "iqr = q3-q1"
   ]
  },
  {
   "cell_type": "code",
   "execution_count": 17,
   "metadata": {},
   "outputs": [
    {
     "data": {
      "text/plain": [
       "1.887459224069687"
      ]
     },
     "execution_count": 17,
     "metadata": {},
     "output_type": "execute_result"
    }
   ],
   "source": [
    "iqr"
   ]
  },
  {
   "cell_type": "code",
   "execution_count": 18,
   "metadata": {},
   "outputs": [],
   "source": [
    "df = data[(data[\"age\"]>(q1-1.5*iqr)) & (data[\"age\"]<(q3+1.5*iqr))]"
   ]
  },
  {
   "cell_type": "code",
   "execution_count": 19,
   "metadata": {},
   "outputs": [
    {
     "data": {
      "text/plain": [
       "<matplotlib.axes._subplots.AxesSubplot at 0x21072227970>"
      ]
     },
     "execution_count": 19,
     "metadata": {},
     "output_type": "execute_result"
    },
    {
     "data": {
      "image/png": "[encoded data removed]",
      "text/plain": [
       "<Figure size 432x288 with 1 Axes>"
      ]
     },
     "metadata": {
      "needs_background": "light"
     },
     "output_type": "display_data"
    }
   ],
   "source": [
    "sns.boxplot(df[\"age\"])"
   ]
  },
  {
   "cell_type": "code",
   "execution_count": 20,
   "metadata": {},
   "outputs": [
    {
     "data": {
      "text/plain": [
       "count    29633.000000\n",
       "mean        17.377469\n",
       "std          1.147764\n",
       "min         13.719000\n",
       "25%         16.501000\n",
       "50%         17.426000\n",
       "75%         18.387000\n",
       "max         21.158000\n",
       "Name: age, dtype: float64"
      ]
     },
     "execution_count": 20,
     "metadata": {},
     "output_type": "execute_result"
    }
   ],
   "source": [
    "df[\"age\"].describe()"
   ]
  },
  {
   "cell_type": "code",
   "execution_count": 21,
   "metadata": {},
   "outputs": [
    {
     "data": {
      "text/html": [
       "<div>\n",
       "<style scoped>\n",
       "    .dataframe tbody tr th:only-of-type {\n",
       "        vertical-align: middle;\n",
       "    }\n",
       "\n",
       "    .dataframe tbody tr th {\n",
       "        vertical-align: top;\n",
       "    }\n",
       "\n",
       "    .dataframe thead th {\n",
       "        text-align: right;\n",
       "    }\n",
       "</style>\n",
       "<table border=\"1\" class=\"dataframe\">\n",
       "  <thead>\n",
       "    <tr style=\"text-align: right;\">\n",
       "      <th></th>\n",
       "      <th>gradyear</th>\n",
       "      <th>gender</th>\n",
       "      <th>age</th>\n",
       "      <th>friends</th>\n",
       "      <th>basketball</th>\n",
       "      <th>football</th>\n",
       "      <th>soccer</th>\n",
       "      <th>softball</th>\n",
       "      <th>volleyball</th>\n",
       "      <th>swimming</th>\n",
       "      <th>...</th>\n",
       "      <th>blonde</th>\n",
       "      <th>mall</th>\n",
       "      <th>shopping</th>\n",
       "      <th>clothes</th>\n",
       "      <th>hollister</th>\n",
       "      <th>abercrombie</th>\n",
       "      <th>die</th>\n",
       "      <th>death</th>\n",
       "      <th>drunk</th>\n",
       "      <th>drugs</th>\n",
       "    </tr>\n",
       "  </thead>\n",
       "  <tbody>\n",
       "    <tr>\n",
       "      <th>0</th>\n",
       "      <td>2006</td>\n",
       "      <td>M</td>\n",
       "      <td>18.982</td>\n",
       "      <td>7</td>\n",
       "      <td>0</td>\n",
       "      <td>-0.358976</td>\n",
       "      <td>-0.242549</td>\n",
       "      <td>-0.218636</td>\n",
       "      <td>-0.223895</td>\n",
       "      <td>-0.26001</td>\n",
       "      <td>...</td>\n",
       "      <td>-0.050749</td>\n",
       "      <td>-0.370420</td>\n",
       "      <td>-0.488475</td>\n",
       "      <td>-0.314753</td>\n",
       "      <td>-0.201558</td>\n",
       "      <td>-0.183345</td>\n",
       "      <td>-0.294188</td>\n",
       "      <td>-0.261723</td>\n",
       "      <td>-0.220556</td>\n",
       "      <td>-0.177494</td>\n",
       "    </tr>\n",
       "    <tr>\n",
       "      <th>1</th>\n",
       "      <td>2006</td>\n",
       "      <td>F</td>\n",
       "      <td>18.801</td>\n",
       "      <td>0</td>\n",
       "      <td>0</td>\n",
       "      <td>1.055779</td>\n",
       "      <td>-0.242549</td>\n",
       "      <td>-0.218636</td>\n",
       "      <td>-0.223895</td>\n",
       "      <td>-0.26001</td>\n",
       "      <td>...</td>\n",
       "      <td>-0.050749</td>\n",
       "      <td>1.063874</td>\n",
       "      <td>-0.488475</td>\n",
       "      <td>-0.314753</td>\n",
       "      <td>-0.201558</td>\n",
       "      <td>-0.183345</td>\n",
       "      <td>-0.294188</td>\n",
       "      <td>-0.261723</td>\n",
       "      <td>-0.220556</td>\n",
       "      <td>-0.177494</td>\n",
       "    </tr>\n",
       "    <tr>\n",
       "      <th>2</th>\n",
       "      <td>2006</td>\n",
       "      <td>M</td>\n",
       "      <td>18.335</td>\n",
       "      <td>69</td>\n",
       "      <td>0</td>\n",
       "      <td>1.055779</td>\n",
       "      <td>-0.242549</td>\n",
       "      <td>-0.218636</td>\n",
       "      <td>-0.223895</td>\n",
       "      <td>-0.26001</td>\n",
       "      <td>...</td>\n",
       "      <td>-0.050749</td>\n",
       "      <td>-0.370420</td>\n",
       "      <td>-0.488475</td>\n",
       "      <td>-0.314753</td>\n",
       "      <td>-0.201558</td>\n",
       "      <td>-0.183345</td>\n",
       "      <td>-0.294188</td>\n",
       "      <td>2.020691</td>\n",
       "      <td>-0.220556</td>\n",
       "      <td>-0.177494</td>\n",
       "    </tr>\n",
       "    <tr>\n",
       "      <th>3</th>\n",
       "      <td>2006</td>\n",
       "      <td>F</td>\n",
       "      <td>18.875</td>\n",
       "      <td>0</td>\n",
       "      <td>0</td>\n",
       "      <td>-0.358976</td>\n",
       "      <td>-0.242549</td>\n",
       "      <td>-0.218636</td>\n",
       "      <td>-0.223895</td>\n",
       "      <td>-0.26001</td>\n",
       "      <td>...</td>\n",
       "      <td>-0.050749</td>\n",
       "      <td>-0.370420</td>\n",
       "      <td>-0.488475</td>\n",
       "      <td>-0.314753</td>\n",
       "      <td>-0.201558</td>\n",
       "      <td>-0.183345</td>\n",
       "      <td>-0.294188</td>\n",
       "      <td>-0.261723</td>\n",
       "      <td>-0.220556</td>\n",
       "      <td>-0.177494</td>\n",
       "    </tr>\n",
       "    <tr>\n",
       "      <th>4</th>\n",
       "      <td>2006</td>\n",
       "      <td>not disclosed</td>\n",
       "      <td>18.995</td>\n",
       "      <td>10</td>\n",
       "      <td>0</td>\n",
       "      <td>-0.358976</td>\n",
       "      <td>-0.242549</td>\n",
       "      <td>-0.218636</td>\n",
       "      <td>-0.223895</td>\n",
       "      <td>-0.26001</td>\n",
       "      <td>...</td>\n",
       "      <td>-0.050749</td>\n",
       "      <td>-0.370420</td>\n",
       "      <td>2.264470</td>\n",
       "      <td>-0.314753</td>\n",
       "      <td>-0.201558</td>\n",
       "      <td>-0.183345</td>\n",
       "      <td>-0.294188</td>\n",
       "      <td>-0.261723</td>\n",
       "      <td>2.280682</td>\n",
       "      <td>2.782377</td>\n",
       "    </tr>\n",
       "  </tbody>\n",
       "</table>\n",
       "<p>5 rows × 40 columns</p>\n",
       "</div>"
      ],
      "text/plain": [
       "   gradyear         gender     age  friends  basketball  football    soccer  \\\n",
       "0      2006              M  18.982        7           0 -0.358976 -0.242549   \n",
       "1      2006              F  18.801        0           0  1.055779 -0.242549   \n",
       "2      2006              M  18.335       69           0  1.055779 -0.242549   \n",
       "3      2006              F  18.875        0           0 -0.358976 -0.242549   \n",
       "4      2006  not disclosed  18.995       10           0 -0.358976 -0.242549   \n",
       "\n",
       "   softball  volleyball  swimming  ...    blonde      mall  shopping  \\\n",
       "0 -0.218636   -0.223895  -0.26001  ... -0.050749 -0.370420 -0.488475   \n",
       "1 -0.218636   -0.223895  -0.26001  ... -0.050749  1.063874 -0.488475   \n",
       "2 -0.218636   -0.223895  -0.26001  ... -0.050749 -0.370420 -0.488475   \n",
       "3 -0.218636   -0.223895  -0.26001  ... -0.050749 -0.370420 -0.488475   \n",
       "4 -0.218636   -0.223895  -0.26001  ... -0.050749 -0.370420  2.264470   \n",
       "\n",
       "    clothes  hollister  abercrombie       die     death     drunk     drugs  \n",
       "0 -0.314753  -0.201558    -0.183345 -0.294188 -0.261723 -0.220556 -0.177494  \n",
       "1 -0.314753  -0.201558    -0.183345 -0.294188 -0.261723 -0.220556 -0.177494  \n",
       "2 -0.314753  -0.201558    -0.183345 -0.294188  2.020691 -0.220556 -0.177494  \n",
       "3 -0.314753  -0.201558    -0.183345 -0.294188 -0.261723 -0.220556 -0.177494  \n",
       "4 -0.314753  -0.201558    -0.183345 -0.294188 -0.261723  2.280682  2.782377  \n",
       "\n",
       "[5 rows x 40 columns]"
      ]
     },
     "execution_count": 21,
     "metadata": {},
     "output_type": "execute_result"
    }
   ],
   "source": [
    "names = df.columns[5:40]\n",
    "scaled_features = df.copy()\n",
    "features = scaled_features[names]\n",
    "from sklearn.preprocessing import StandardScaler\n",
    "scaler = StandardScaler().fit(features.values)\n",
    "features =scaler.transform(features.values)\n",
    "scaled_features[names] = features\n",
    "scaled_features.head()"
   ]
  },
  {
   "cell_type": "code",
   "execution_count": 22,
   "metadata": {},
   "outputs": [],
   "source": [
    "# label encoder ( convert object variable into numeric)"
   ]
  },
  {
   "cell_type": "code",
   "execution_count": 23,
   "metadata": {},
   "outputs": [],
   "source": [
    "def gendre_to_numeric(x):\n",
    "    if x == \"M\":\n",
    "        return 1\n",
    "    if x == \"F\" :\n",
    "        return 2\n",
    "    if x == \"not disclosed\":\n",
    "        return 3"
   ]
  },
  {
   "cell_type": "code",
   "execution_count": 24,
   "metadata": {},
   "outputs": [],
   "source": [
    "scaled_features[\"gender\"]= scaled_features[\"gender\"].apply(gendre_to_numeric)"
   ]
  },
  {
   "cell_type": "code",
   "execution_count": 25,
   "metadata": {},
   "outputs": [
    {
     "data": {
      "text/plain": [
       "0    1\n",
       "1    2\n",
       "2    1\n",
       "3    2\n",
       "4    3\n",
       "Name: gender, dtype: int64"
      ]
     },
     "execution_count": 25,
     "metadata": {},
     "output_type": "execute_result"
    }
   ],
   "source": [
    "scaled_features[\"gender\"].head()"
   ]
  },
  {
   "cell_type": "code",
   "execution_count": 26,
   "metadata": {},
   "outputs": [],
   "source": [
    "# Building the k meana model"
   ]
  },
  {
   "cell_type": "code",
   "execution_count": 27,
   "metadata": {},
   "outputs": [
    {
     "name": "stderr",
     "output_type": "stream",
     "text": [
      "C:\\ProgramData\\Anaconda3\\lib\\site-packages\\sklearn\\cluster\\_kmeans.py:973: FutureWarning: 'n_jobs' was deprecated in version 0.23 and will be removed in 0.25.\n",
      "  warnings.warn(\"'n_jobs' was deprecated in version 0.23 and will be\"\n"
     ]
    }
   ],
   "source": [
    "from sklearn.cluster import KMeans\n",
    "kmeans = KMeans(n_clusters = 5, random_state = 1234, n_jobs = -1)\n",
    "model = kmeans.fit(scaled_features)"
   ]
  },
  {
   "cell_type": "code",
   "execution_count": 28,
   "metadata": {},
   "outputs": [],
   "source": [
    "# Elbow method\n",
    "# help(KMeans)"
   ]
  },
  {
   "cell_type": "code",
   "execution_count": 29,
   "metadata": {},
   "outputs": [
    {
     "ename": "IndentationError",
     "evalue": "unexpected indent (<ipython-input-29-afc0ff3bf04e>, line 8)",
     "output_type": "error",
     "traceback": [
      "\u001b[1;36m  File \u001b[1;32m\"<ipython-input-29-afc0ff3bf04e>\"\u001b[1;36m, line \u001b[1;32m8\u001b[0m\n\u001b[1;33m    plt.xlabel(\"Number od cluster\")\u001b[0m\n\u001b[1;37m    ^\u001b[0m\n\u001b[1;31mIndentationError\u001b[0m\u001b[1;31m:\u001b[0m unexpected indent\n"
     ]
    }
   ],
   "source": [
    "wcss = []\n",
    "for i in range(1,20):\n",
    "    kmeans = KMeans(n_clusters = i, init = \"k-means++\",max_iter = 300, n_init= 10, random_state = 1234)\n",
    "    kmeans.fit(scaled_features)\n",
    "    wcss.append(kmeans.inertia_)\n",
    "plt.plot(range(1,20),wcss)\n",
    "plt.title(\"The elbow plot\")\n",
    "    plt.xlabel(\"Number od cluster\")\n",
    "plt.ylabel(\"WCSS\")\n",
    "plt.show()"
   ]
  },
  {
   "cell_type": "code",
   "execution_count": 30,
   "metadata": {},
   "outputs": [],
   "source": [
    "# fit K-means cluster for K= 5"
   ]
  },
  {
   "cell_type": "code",
   "execution_count": 31,
   "metadata": {},
   "outputs": [
    {
     "data": {
      "text/plain": [
       "KMeans(n_clusters=5)"
      ]
     },
     "execution_count": 31,
     "metadata": {},
     "output_type": "execute_result"
    }
   ],
   "source": [
    "kmeans = KMeans(n_clusters = 5)\n",
    "kmeans.fit(scaled_features)"
   ]
  },
  {
   "cell_type": "code",
   "execution_count": 32,
   "metadata": {},
   "outputs": [
    {
     "data": {
      "text/plain": [
       "array([1, 1, 0, ..., 1, 1, 1])"
      ]
     },
     "execution_count": 32,
     "metadata": {},
     "output_type": "execute_result"
    }
   ],
   "source": [
    "kmeans.labels_"
   ]
  },
  {
   "cell_type": "code",
   "execution_count": 33,
   "metadata": {},
   "outputs": [
    {
     "name": "stderr",
     "output_type": "stream",
     "text": [
      "<ipython-input-33-c17a504b7dcc>:1: SettingWithCopyWarning: \n",
      "A value is trying to be set on a copy of a slice from a DataFrame.\n",
      "Try using .loc[row_indexer,col_indexer] = value instead\n",
      "\n",
      "See the caveats in the documentation: https://pandas.pydata.org/pandas-docs/stable/user_guide/indexing.html#returning-a-view-versus-a-copy\n",
      "  df[\"cluster\"]= kmeans.labels_\n"
     ]
    }
   ],
   "source": [
    "df[\"cluster\"]= kmeans.labels_"
   ]
  },
  {
   "cell_type": "code",
   "execution_count": 34,
   "metadata": {},
   "outputs": [
    {
     "data": {
      "text/html": [
       "<div>\n",
       "<style scoped>\n",
       "    .dataframe tbody tr th:only-of-type {\n",
       "        vertical-align: middle;\n",
       "    }\n",
       "\n",
       "    .dataframe tbody tr th {\n",
       "        vertical-align: top;\n",
       "    }\n",
       "\n",
       "    .dataframe thead th {\n",
       "        text-align: right;\n",
       "    }\n",
       "</style>\n",
       "<table border=\"1\" class=\"dataframe\">\n",
       "  <thead>\n",
       "    <tr style=\"text-align: right;\">\n",
       "      <th></th>\n",
       "      <th>gradyear</th>\n",
       "      <th>gender</th>\n",
       "      <th>age</th>\n",
       "      <th>friends</th>\n",
       "      <th>basketball</th>\n",
       "      <th>football</th>\n",
       "      <th>soccer</th>\n",
       "      <th>softball</th>\n",
       "      <th>volleyball</th>\n",
       "      <th>swimming</th>\n",
       "      <th>...</th>\n",
       "      <th>mall</th>\n",
       "      <th>shopping</th>\n",
       "      <th>clothes</th>\n",
       "      <th>hollister</th>\n",
       "      <th>abercrombie</th>\n",
       "      <th>die</th>\n",
       "      <th>death</th>\n",
       "      <th>drunk</th>\n",
       "      <th>drugs</th>\n",
       "      <th>cluster</th>\n",
       "    </tr>\n",
       "  </thead>\n",
       "  <tbody>\n",
       "    <tr>\n",
       "      <th>0</th>\n",
       "      <td>2006</td>\n",
       "      <td>M</td>\n",
       "      <td>18.982</td>\n",
       "      <td>7</td>\n",
       "      <td>0</td>\n",
       "      <td>0</td>\n",
       "      <td>0</td>\n",
       "      <td>0</td>\n",
       "      <td>0</td>\n",
       "      <td>0</td>\n",
       "      <td>...</td>\n",
       "      <td>0</td>\n",
       "      <td>0</td>\n",
       "      <td>0</td>\n",
       "      <td>0</td>\n",
       "      <td>0</td>\n",
       "      <td>0</td>\n",
       "      <td>0</td>\n",
       "      <td>0</td>\n",
       "      <td>0</td>\n",
       "      <td>1</td>\n",
       "    </tr>\n",
       "    <tr>\n",
       "      <th>1</th>\n",
       "      <td>2006</td>\n",
       "      <td>F</td>\n",
       "      <td>18.801</td>\n",
       "      <td>0</td>\n",
       "      <td>0</td>\n",
       "      <td>1</td>\n",
       "      <td>0</td>\n",
       "      <td>0</td>\n",
       "      <td>0</td>\n",
       "      <td>0</td>\n",
       "      <td>...</td>\n",
       "      <td>1</td>\n",
       "      <td>0</td>\n",
       "      <td>0</td>\n",
       "      <td>0</td>\n",
       "      <td>0</td>\n",
       "      <td>0</td>\n",
       "      <td>0</td>\n",
       "      <td>0</td>\n",
       "      <td>0</td>\n",
       "      <td>1</td>\n",
       "    </tr>\n",
       "    <tr>\n",
       "      <th>2</th>\n",
       "      <td>2006</td>\n",
       "      <td>M</td>\n",
       "      <td>18.335</td>\n",
       "      <td>69</td>\n",
       "      <td>0</td>\n",
       "      <td>1</td>\n",
       "      <td>0</td>\n",
       "      <td>0</td>\n",
       "      <td>0</td>\n",
       "      <td>0</td>\n",
       "      <td>...</td>\n",
       "      <td>0</td>\n",
       "      <td>0</td>\n",
       "      <td>0</td>\n",
       "      <td>0</td>\n",
       "      <td>0</td>\n",
       "      <td>0</td>\n",
       "      <td>1</td>\n",
       "      <td>0</td>\n",
       "      <td>0</td>\n",
       "      <td>0</td>\n",
       "    </tr>\n",
       "    <tr>\n",
       "      <th>3</th>\n",
       "      <td>2006</td>\n",
       "      <td>F</td>\n",
       "      <td>18.875</td>\n",
       "      <td>0</td>\n",
       "      <td>0</td>\n",
       "      <td>0</td>\n",
       "      <td>0</td>\n",
       "      <td>0</td>\n",
       "      <td>0</td>\n",
       "      <td>0</td>\n",
       "      <td>...</td>\n",
       "      <td>0</td>\n",
       "      <td>0</td>\n",
       "      <td>0</td>\n",
       "      <td>0</td>\n",
       "      <td>0</td>\n",
       "      <td>0</td>\n",
       "      <td>0</td>\n",
       "      <td>0</td>\n",
       "      <td>0</td>\n",
       "      <td>1</td>\n",
       "    </tr>\n",
       "    <tr>\n",
       "      <th>4</th>\n",
       "      <td>2006</td>\n",
       "      <td>not disclosed</td>\n",
       "      <td>18.995</td>\n",
       "      <td>10</td>\n",
       "      <td>0</td>\n",
       "      <td>0</td>\n",
       "      <td>0</td>\n",
       "      <td>0</td>\n",
       "      <td>0</td>\n",
       "      <td>0</td>\n",
       "      <td>...</td>\n",
       "      <td>0</td>\n",
       "      <td>2</td>\n",
       "      <td>0</td>\n",
       "      <td>0</td>\n",
       "      <td>0</td>\n",
       "      <td>0</td>\n",
       "      <td>0</td>\n",
       "      <td>1</td>\n",
       "      <td>1</td>\n",
       "      <td>1</td>\n",
       "    </tr>\n",
       "    <tr>\n",
       "      <th>...</th>\n",
       "      <td>...</td>\n",
       "      <td>...</td>\n",
       "      <td>...</td>\n",
       "      <td>...</td>\n",
       "      <td>...</td>\n",
       "      <td>...</td>\n",
       "      <td>...</td>\n",
       "      <td>...</td>\n",
       "      <td>...</td>\n",
       "      <td>...</td>\n",
       "      <td>...</td>\n",
       "      <td>...</td>\n",
       "      <td>...</td>\n",
       "      <td>...</td>\n",
       "      <td>...</td>\n",
       "      <td>...</td>\n",
       "      <td>...</td>\n",
       "      <td>...</td>\n",
       "      <td>...</td>\n",
       "      <td>...</td>\n",
       "      <td>...</td>\n",
       "    </tr>\n",
       "    <tr>\n",
       "      <th>29995</th>\n",
       "      <td>2009</td>\n",
       "      <td>M</td>\n",
       "      <td>16.115</td>\n",
       "      <td>0</td>\n",
       "      <td>0</td>\n",
       "      <td>0</td>\n",
       "      <td>0</td>\n",
       "      <td>0</td>\n",
       "      <td>0</td>\n",
       "      <td>0</td>\n",
       "      <td>...</td>\n",
       "      <td>0</td>\n",
       "      <td>0</td>\n",
       "      <td>0</td>\n",
       "      <td>0</td>\n",
       "      <td>0</td>\n",
       "      <td>0</td>\n",
       "      <td>0</td>\n",
       "      <td>0</td>\n",
       "      <td>0</td>\n",
       "      <td>1</td>\n",
       "    </tr>\n",
       "    <tr>\n",
       "      <th>29996</th>\n",
       "      <td>2009</td>\n",
       "      <td>M</td>\n",
       "      <td>15.792</td>\n",
       "      <td>1</td>\n",
       "      <td>0</td>\n",
       "      <td>1</td>\n",
       "      <td>0</td>\n",
       "      <td>0</td>\n",
       "      <td>0</td>\n",
       "      <td>0</td>\n",
       "      <td>...</td>\n",
       "      <td>0</td>\n",
       "      <td>0</td>\n",
       "      <td>0</td>\n",
       "      <td>0</td>\n",
       "      <td>0</td>\n",
       "      <td>0</td>\n",
       "      <td>0</td>\n",
       "      <td>0</td>\n",
       "      <td>0</td>\n",
       "      <td>1</td>\n",
       "    </tr>\n",
       "    <tr>\n",
       "      <th>29997</th>\n",
       "      <td>2009</td>\n",
       "      <td>M</td>\n",
       "      <td>15.784</td>\n",
       "      <td>0</td>\n",
       "      <td>0</td>\n",
       "      <td>1</td>\n",
       "      <td>0</td>\n",
       "      <td>0</td>\n",
       "      <td>0</td>\n",
       "      <td>0</td>\n",
       "      <td>...</td>\n",
       "      <td>0</td>\n",
       "      <td>0</td>\n",
       "      <td>0</td>\n",
       "      <td>0</td>\n",
       "      <td>0</td>\n",
       "      <td>0</td>\n",
       "      <td>0</td>\n",
       "      <td>0</td>\n",
       "      <td>0</td>\n",
       "      <td>1</td>\n",
       "    </tr>\n",
       "    <tr>\n",
       "      <th>29998</th>\n",
       "      <td>2009</td>\n",
       "      <td>M</td>\n",
       "      <td>16.378</td>\n",
       "      <td>0</td>\n",
       "      <td>0</td>\n",
       "      <td>0</td>\n",
       "      <td>0</td>\n",
       "      <td>0</td>\n",
       "      <td>0</td>\n",
       "      <td>0</td>\n",
       "      <td>...</td>\n",
       "      <td>0</td>\n",
       "      <td>0</td>\n",
       "      <td>0</td>\n",
       "      <td>0</td>\n",
       "      <td>0</td>\n",
       "      <td>0</td>\n",
       "      <td>0</td>\n",
       "      <td>0</td>\n",
       "      <td>0</td>\n",
       "      <td>1</td>\n",
       "    </tr>\n",
       "    <tr>\n",
       "      <th>29999</th>\n",
       "      <td>2009</td>\n",
       "      <td>F</td>\n",
       "      <td>18.724</td>\n",
       "      <td>3</td>\n",
       "      <td>2</td>\n",
       "      <td>0</td>\n",
       "      <td>0</td>\n",
       "      <td>1</td>\n",
       "      <td>0</td>\n",
       "      <td>0</td>\n",
       "      <td>...</td>\n",
       "      <td>0</td>\n",
       "      <td>0</td>\n",
       "      <td>0</td>\n",
       "      <td>0</td>\n",
       "      <td>0</td>\n",
       "      <td>0</td>\n",
       "      <td>0</td>\n",
       "      <td>0</td>\n",
       "      <td>0</td>\n",
       "      <td>1</td>\n",
       "    </tr>\n",
       "  </tbody>\n",
       "</table>\n",
       "<p>29633 rows × 41 columns</p>\n",
       "</div>"
      ],
      "text/plain": [
       "       gradyear         gender     age  friends  basketball  football  soccer  \\\n",
       "0          2006              M  18.982        7           0         0       0   \n",
       "1          2006              F  18.801        0           0         1       0   \n",
       "2          2006              M  18.335       69           0         1       0   \n",
       "3          2006              F  18.875        0           0         0       0   \n",
       "4          2006  not disclosed  18.995       10           0         0       0   \n",
       "...         ...            ...     ...      ...         ...       ...     ...   \n",
       "29995      2009              M  16.115        0           0         0       0   \n",
       "29996      2009              M  15.792        1           0         1       0   \n",
       "29997      2009              M  15.784        0           0         1       0   \n",
       "29998      2009              M  16.378        0           0         0       0   \n",
       "29999      2009              F  18.724        3           2         0       0   \n",
       "\n",
       "       softball  volleyball  swimming  ...  mall  shopping  clothes  \\\n",
       "0             0           0         0  ...     0         0        0   \n",
       "1             0           0         0  ...     1         0        0   \n",
       "2             0           0         0  ...     0         0        0   \n",
       "3             0           0         0  ...     0         0        0   \n",
       "4             0           0         0  ...     0         2        0   \n",
       "...         ...         ...       ...  ...   ...       ...      ...   \n",
       "29995         0           0         0  ...     0         0        0   \n",
       "29996         0           0         0  ...     0         0        0   \n",
       "29997         0           0         0  ...     0         0        0   \n",
       "29998         0           0         0  ...     0         0        0   \n",
       "29999         1           0         0  ...     0         0        0   \n",
       "\n",
       "       hollister  abercrombie  die  death  drunk  drugs  cluster  \n",
       "0              0            0    0      0      0      0        1  \n",
       "1              0            0    0      0      0      0        1  \n",
       "2              0            0    0      1      0      0        0  \n",
       "3              0            0    0      0      0      0        1  \n",
       "4              0            0    0      0      1      1        1  \n",
       "...          ...          ...  ...    ...    ...    ...      ...  \n",
       "29995          0            0    0      0      0      0        1  \n",
       "29996          0            0    0      0      0      0        1  \n",
       "29997          0            0    0      0      0      0        1  \n",
       "29998          0            0    0      0      0      0        1  \n",
       "29999          0            0    0      0      0      0        1  \n",
       "\n",
       "[29633 rows x 41 columns]"
      ]
     },
     "execution_count": 34,
     "metadata": {},
     "output_type": "execute_result"
    }
   ],
   "source": [
    "df"
   ]
  },
  {
   "cell_type": "code",
   "execution_count": 35,
   "metadata": {},
   "outputs": [
    {
     "data": {
      "text/plain": [
       "array([0, 1, 2, 3, 4])"
      ]
     },
     "execution_count": 35,
     "metadata": {},
     "output_type": "execute_result"
    }
   ],
   "source": [
    "# Clustering interpretation\n",
    "x = np.arange(0,5,1)\n",
    "x"
   ]
  },
  {
   "cell_type": "code",
   "execution_count": 36,
   "metadata": {},
   "outputs": [
    {
     "data": {
      "text/plain": [
       "Text(0, 0.5, 'Number of students')"
      ]
     },
     "execution_count": 36,
     "metadata": {},
     "output_type": "execute_result"
    },
    {
     "data": {
      "image/png": "[encoded data removed]",
      "text/plain": [
       "<Figure size 864x504 with 1 Axes>"
      ]
     },
     "metadata": {
      "needs_background": "light"
     },
     "output_type": "display_data"
    }
   ],
   "source": [
    "plt.figure(figsize = (12,7))\n",
    "axis = sns.barplot(x = np.arange(0,5,1), y = df.groupby([\"cluster\"]).count()[\"age\"].values)\n",
    "axis.set_xlabel(\"cluster number\")\n",
    "axis.set_ylabel(\"Number of students\")"
   ]
  },
  {
   "cell_type": "code",
   "execution_count": 37,
   "metadata": {},
   "outputs": [],
   "source": [
    "names = df.columns[5:40]"
   ]
  },
  {
   "cell_type": "code",
   "execution_count": 38,
   "metadata": {},
   "outputs": [
    {
     "data": {
      "text/plain": [
       "Index(['football', 'soccer', 'softball', 'volleyball', 'swimming',\n",
       "       'cheerleading', 'baseball', 'tennis', 'sports', 'cute', 'sex', 'sexy',\n",
       "       'hot', 'kissed', 'dance', 'band', 'marching', 'music', 'rock', 'god',\n",
       "       'church', 'jesus', 'bible', 'hair', 'dress', 'blonde', 'mall',\n",
       "       'shopping', 'clothes', 'hollister', 'abercrombie', 'die', 'death',\n",
       "       'drunk', 'drugs'],\n",
       "      dtype='object')"
      ]
     },
     "execution_count": 38,
     "metadata": {},
     "output_type": "execute_result"
    }
   ],
   "source": [
    "names"
   ]
  },
  {
   "cell_type": "code",
   "execution_count": 39,
   "metadata": {},
   "outputs": [
    {
     "data": {
      "text/plain": [
       "[4635, 14707, 8705, 172, 1414]"
      ]
     },
     "execution_count": 39,
     "metadata": {},
     "output_type": "execute_result"
    }
   ],
   "source": [
    "list(df.groupby([\"cluster\"]).count()[\"age\"].values)"
   ]
  },
  {
   "cell_type": "code",
   "execution_count": 40,
   "metadata": {
    "scrolled": true
   },
   "outputs": [
    {
     "data": {
      "text/html": [
       "<div>\n",
       "<style scoped>\n",
       "    .dataframe tbody tr th:only-of-type {\n",
       "        vertical-align: middle;\n",
       "    }\n",
       "\n",
       "    .dataframe tbody tr th {\n",
       "        vertical-align: top;\n",
       "    }\n",
       "\n",
       "    .dataframe thead th {\n",
       "        text-align: right;\n",
       "    }\n",
       "</style>\n",
       "<table border=\"1\" class=\"dataframe\">\n",
       "  <thead>\n",
       "    <tr style=\"text-align: right;\">\n",
       "      <th></th>\n",
       "      <th>football</th>\n",
       "      <th>soccer</th>\n",
       "      <th>softball</th>\n",
       "      <th>volleyball</th>\n",
       "      <th>swimming</th>\n",
       "      <th>cheerleading</th>\n",
       "      <th>baseball</th>\n",
       "      <th>tennis</th>\n",
       "      <th>sports</th>\n",
       "      <th>cute</th>\n",
       "      <th>...</th>\n",
       "      <th>blonde</th>\n",
       "      <th>mall</th>\n",
       "      <th>shopping</th>\n",
       "      <th>clothes</th>\n",
       "      <th>hollister</th>\n",
       "      <th>abercrombie</th>\n",
       "      <th>die</th>\n",
       "      <th>death</th>\n",
       "      <th>drunk</th>\n",
       "      <th>drugs</th>\n",
       "    </tr>\n",
       "    <tr>\n",
       "      <th>cluster</th>\n",
       "      <th></th>\n",
       "      <th></th>\n",
       "      <th></th>\n",
       "      <th></th>\n",
       "      <th></th>\n",
       "      <th></th>\n",
       "      <th></th>\n",
       "      <th></th>\n",
       "      <th></th>\n",
       "      <th></th>\n",
       "      <th></th>\n",
       "      <th></th>\n",
       "      <th></th>\n",
       "      <th></th>\n",
       "      <th></th>\n",
       "      <th></th>\n",
       "      <th></th>\n",
       "      <th></th>\n",
       "      <th></th>\n",
       "      <th></th>\n",
       "      <th></th>\n",
       "    </tr>\n",
       "  </thead>\n",
       "  <tbody>\n",
       "    <tr>\n",
       "      <th>0</th>\n",
       "      <td>0.282416</td>\n",
       "      <td>0.275728</td>\n",
       "      <td>0.245523</td>\n",
       "      <td>0.185329</td>\n",
       "      <td>0.158360</td>\n",
       "      <td>0.138296</td>\n",
       "      <td>0.127077</td>\n",
       "      <td>0.093635</td>\n",
       "      <td>0.151241</td>\n",
       "      <td>0.393528</td>\n",
       "      <td>...</td>\n",
       "      <td>0.103776</td>\n",
       "      <td>0.316936</td>\n",
       "      <td>0.441208</td>\n",
       "      <td>0.170658</td>\n",
       "      <td>0.096224</td>\n",
       "      <td>0.074865</td>\n",
       "      <td>0.177346</td>\n",
       "      <td>0.125566</td>\n",
       "      <td>0.086516</td>\n",
       "      <td>0.056742</td>\n",
       "    </tr>\n",
       "    <tr>\n",
       "      <th>1</th>\n",
       "      <td>0.230231</td>\n",
       "      <td>0.192017</td>\n",
       "      <td>0.121915</td>\n",
       "      <td>0.109540</td>\n",
       "      <td>0.116135</td>\n",
       "      <td>0.086693</td>\n",
       "      <td>0.091317</td>\n",
       "      <td>0.080914</td>\n",
       "      <td>0.127490</td>\n",
       "      <td>0.275039</td>\n",
       "      <td>...</td>\n",
       "      <td>0.080710</td>\n",
       "      <td>0.220235</td>\n",
       "      <td>0.299585</td>\n",
       "      <td>0.135446</td>\n",
       "      <td>0.055348</td>\n",
       "      <td>0.040321</td>\n",
       "      <td>0.178962</td>\n",
       "      <td>0.101924</td>\n",
       "      <td>0.084450</td>\n",
       "      <td>0.064391</td>\n",
       "    </tr>\n",
       "    <tr>\n",
       "      <th>2</th>\n",
       "      <td>0.270190</td>\n",
       "      <td>0.241700</td>\n",
       "      <td>0.169902</td>\n",
       "      <td>0.169787</td>\n",
       "      <td>0.149569</td>\n",
       "      <td>0.109592</td>\n",
       "      <td>0.112349</td>\n",
       "      <td>0.093854</td>\n",
       "      <td>0.155313</td>\n",
       "      <td>0.342562</td>\n",
       "      <td>...</td>\n",
       "      <td>0.121999</td>\n",
       "      <td>0.263871</td>\n",
       "      <td>0.376795</td>\n",
       "      <td>0.157381</td>\n",
       "      <td>0.070764</td>\n",
       "      <td>0.049742</td>\n",
       "      <td>0.193222</td>\n",
       "      <td>0.126594</td>\n",
       "      <td>0.090293</td>\n",
       "      <td>0.056864</td>\n",
       "    </tr>\n",
       "    <tr>\n",
       "      <th>3</th>\n",
       "      <td>0.250000</td>\n",
       "      <td>0.267442</td>\n",
       "      <td>0.215116</td>\n",
       "      <td>0.226744</td>\n",
       "      <td>0.215116</td>\n",
       "      <td>0.174419</td>\n",
       "      <td>0.133721</td>\n",
       "      <td>0.069767</td>\n",
       "      <td>0.122093</td>\n",
       "      <td>0.470930</td>\n",
       "      <td>...</td>\n",
       "      <td>0.127907</td>\n",
       "      <td>0.313953</td>\n",
       "      <td>0.575581</td>\n",
       "      <td>0.191860</td>\n",
       "      <td>0.116279</td>\n",
       "      <td>0.133721</td>\n",
       "      <td>0.209302</td>\n",
       "      <td>0.162791</td>\n",
       "      <td>0.133721</td>\n",
       "      <td>0.040698</td>\n",
       "    </tr>\n",
       "    <tr>\n",
       "      <th>4</th>\n",
       "      <td>0.303395</td>\n",
       "      <td>0.246818</td>\n",
       "      <td>0.257426</td>\n",
       "      <td>0.189533</td>\n",
       "      <td>0.147808</td>\n",
       "      <td>0.202970</td>\n",
       "      <td>0.137199</td>\n",
       "      <td>0.094767</td>\n",
       "      <td>0.140736</td>\n",
       "      <td>0.478076</td>\n",
       "      <td>...</td>\n",
       "      <td>0.131542</td>\n",
       "      <td>0.420085</td>\n",
       "      <td>0.485149</td>\n",
       "      <td>0.165488</td>\n",
       "      <td>0.128006</td>\n",
       "      <td>0.090523</td>\n",
       "      <td>0.200141</td>\n",
       "      <td>0.132249</td>\n",
       "      <td>0.113861</td>\n",
       "      <td>0.045969</td>\n",
       "    </tr>\n",
       "  </tbody>\n",
       "</table>\n",
       "<p>5 rows × 35 columns</p>\n",
       "</div>"
      ],
      "text/plain": [
       "         football    soccer  softball  volleyball  swimming  cheerleading  \\\n",
       "cluster                                                                     \n",
       "0        0.282416  0.275728  0.245523    0.185329  0.158360      0.138296   \n",
       "1        0.230231  0.192017  0.121915    0.109540  0.116135      0.086693   \n",
       "2        0.270190  0.241700  0.169902    0.169787  0.149569      0.109592   \n",
       "3        0.250000  0.267442  0.215116    0.226744  0.215116      0.174419   \n",
       "4        0.303395  0.246818  0.257426    0.189533  0.147808      0.202970   \n",
       "\n",
       "         baseball    tennis    sports      cute  ...    blonde      mall  \\\n",
       "cluster                                          ...                       \n",
       "0        0.127077  0.093635  0.151241  0.393528  ...  0.103776  0.316936   \n",
       "1        0.091317  0.080914  0.127490  0.275039  ...  0.080710  0.220235   \n",
       "2        0.112349  0.093854  0.155313  0.342562  ...  0.121999  0.263871   \n",
       "3        0.133721  0.069767  0.122093  0.470930  ...  0.127907  0.313953   \n",
       "4        0.137199  0.094767  0.140736  0.478076  ...  0.131542  0.420085   \n",
       "\n",
       "         shopping   clothes  hollister  abercrombie       die     death  \\\n",
       "cluster                                                                   \n",
       "0        0.441208  0.170658   0.096224     0.074865  0.177346  0.125566   \n",
       "1        0.299585  0.135446   0.055348     0.040321  0.178962  0.101924   \n",
       "2        0.376795  0.157381   0.070764     0.049742  0.193222  0.126594   \n",
       "3        0.575581  0.191860   0.116279     0.133721  0.209302  0.162791   \n",
       "4        0.485149  0.165488   0.128006     0.090523  0.200141  0.132249   \n",
       "\n",
       "            drunk     drugs  \n",
       "cluster                      \n",
       "0        0.086516  0.056742  \n",
       "1        0.084450  0.064391  \n",
       "2        0.090293  0.056864  \n",
       "3        0.133721  0.040698  \n",
       "4        0.113861  0.045969  \n",
       "\n",
       "[5 rows x 35 columns]"
      ]
     },
     "execution_count": 40,
     "metadata": {},
     "output_type": "execute_result"
    }
   ],
   "source": [
    "df.groupby([\"cluster\"]).mean()[names]"
   ]
  },
  {
   "cell_type": "code",
   "execution_count": 41,
   "metadata": {},
   "outputs": [
    {
     "data": {
      "text/plain": [
       "0.5140873434234472"
      ]
     },
     "execution_count": 41,
     "metadata": {},
     "output_type": "execute_result"
    }
   ],
   "source": [
    "kmeans = KMeans(n_clusters = 5)\n",
    "kmeans.fit(scaled_features)\n",
    "pred = kmeans.fit_predict(scaled_features)\n",
    "centers = kmeans.cluster_centers_\n",
    "from sklearn.metrics import silhouette_score\n",
    "score = silhouette_score(scaled_features,pred)\n",
    "score"
   ]
  },
  {
   "cell_type": "code",
   "execution_count": 42,
   "metadata": {},
   "outputs": [
    {
     "data": {
      "text/plain": [
       "0.5140873434234472"
      ]
     },
     "execution_count": 42,
     "metadata": {},
     "output_type": "execute_result"
    }
   ],
   "source": [
    "score"
   ]
  },
  {
   "cell_type": "code",
   "execution_count": null,
   "metadata": {},
   "outputs": [],
   "source": []
  }
 ],
 "metadata": {
  "kernelspec": {
   "display_name": "Python 3",
   "language": "python",
   "name": "python3"
  },
  "language_info": {
   "codemirror_mode": {
    "name": "ipython",
    "version": 3
   },
   "file_extension": ".py",
   "mimetype": "text/x-python",
   "name": "python",
   "nbconvert_exporter": "python",
   "pygments_lexer": "ipython3",
   "version": "3.8.3"
  }
 },
 "nbformat": 4,
 "nbformat_minor": 4
}
